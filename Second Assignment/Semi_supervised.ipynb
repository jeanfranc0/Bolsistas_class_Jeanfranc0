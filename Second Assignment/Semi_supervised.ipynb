{
  "nbformat": 4,
  "nbformat_minor": 0,
  "metadata": {
    "colab": {
      "name": "Semi_supervised.ipynb",
      "version": "0.3.2",
      "provenance": [],
      "collapsed_sections": []
    },
    "kernelspec": {
      "name": "python3",
      "display_name": "Python 3"
    },
    "accelerator": "TPU"
  },
  "cells": [
    {
      "cell_type": "code",
      "metadata": {
        "id": "HOii2ABOzwhR",
        "colab_type": "code",
        "colab": {}
      },
      "source": [
        "import numpy as np\n",
        "import pandas as pd\n",
        "import matplotlib.pyplot as plt\n",
        "%matplotlib inline"
      ],
      "execution_count": 0,
      "outputs": []
    },
    {
      "cell_type": "code",
      "metadata": {
        "id": "RBtmslAN0jm8",
        "colab_type": "code",
        "colab": {}
      },
      "source": [
        "from tqdm import tqdm\n",
        "from math import log10\n",
        "from sklearn import preprocessing\n",
        "from sklearn import metrics\n",
        "from sklearn.model_selection import train_test_split"
      ],
      "execution_count": 0,
      "outputs": []
    },
    {
      "cell_type": "code",
      "metadata": {
        "id": "Tgf-qJTB0mZi",
        "colab_type": "code",
        "colab": {}
      },
      "source": [
        "from sklearn.utils import shuffle\n",
        "import warnings\n",
        "warnings.filterwarnings(\"ignore\")\n",
        "from sklearn.model_selection import train_test_split\n",
        "from sklearn.svm import LinearSVC\n",
        "from sklearn.model_selection import StratifiedKFold, GridSearchCV, KFold"
      ],
      "execution_count": 0,
      "outputs": []
    },
    {
      "cell_type": "code",
      "metadata": {
        "id": "CQcJkthC0oy7",
        "colab_type": "code",
        "colab": {}
      },
      "source": [
        "df = pd.read_csv('dba.csv')"
      ],
      "execution_count": 0,
      "outputs": []
    },
    {
      "cell_type": "code",
      "metadata": {
        "id": "QKWF-ieI09BV",
        "colab_type": "code",
        "outputId": "8c9d2201-fb2a-43df-df0c-444f3b44cd40",
        "colab": {
          "base_uri": "https://localhost:8080/",
          "height": 204
        }
      },
      "source": [
        "df.head()"
      ],
      "execution_count": 93,
      "outputs": [
        {
          "output_type": "execute_result",
          "data": {
            "text/html": [
              "<div>\n",
              "<style scoped>\n",
              "    .dataframe tbody tr th:only-of-type {\n",
              "        vertical-align: middle;\n",
              "    }\n",
              "\n",
              "    .dataframe tbody tr th {\n",
              "        vertical-align: top;\n",
              "    }\n",
              "\n",
              "    .dataframe thead th {\n",
              "        text-align: right;\n",
              "    }\n",
              "</style>\n",
              "<table border=\"1\" class=\"dataframe\">\n",
              "  <thead>\n",
              "    <tr style=\"text-align: right;\">\n",
              "      <th></th>\n",
              "      <th>variance</th>\n",
              "      <th>skewness</th>\n",
              "      <th>curtosis</th>\n",
              "      <th>entropy</th>\n",
              "      <th>class</th>\n",
              "    </tr>\n",
              "  </thead>\n",
              "  <tbody>\n",
              "    <tr>\n",
              "      <th>0</th>\n",
              "      <td>3.62160</td>\n",
              "      <td>8.6661</td>\n",
              "      <td>-2.8073</td>\n",
              "      <td>-0.44699</td>\n",
              "      <td>0</td>\n",
              "    </tr>\n",
              "    <tr>\n",
              "      <th>1</th>\n",
              "      <td>4.54590</td>\n",
              "      <td>8.1674</td>\n",
              "      <td>-2.4586</td>\n",
              "      <td>-1.46210</td>\n",
              "      <td>0</td>\n",
              "    </tr>\n",
              "    <tr>\n",
              "      <th>2</th>\n",
              "      <td>3.86600</td>\n",
              "      <td>-2.6383</td>\n",
              "      <td>1.9242</td>\n",
              "      <td>0.10645</td>\n",
              "      <td>0</td>\n",
              "    </tr>\n",
              "    <tr>\n",
              "      <th>3</th>\n",
              "      <td>3.45660</td>\n",
              "      <td>9.5228</td>\n",
              "      <td>-4.0112</td>\n",
              "      <td>-3.59440</td>\n",
              "      <td>0</td>\n",
              "    </tr>\n",
              "    <tr>\n",
              "      <th>4</th>\n",
              "      <td>0.32924</td>\n",
              "      <td>-4.4552</td>\n",
              "      <td>4.5718</td>\n",
              "      <td>-0.98880</td>\n",
              "      <td>0</td>\n",
              "    </tr>\n",
              "  </tbody>\n",
              "</table>\n",
              "</div>"
            ],
            "text/plain": [
              "   variance  skewness  curtosis  entropy  class\n",
              "0   3.62160    8.6661   -2.8073 -0.44699      0\n",
              "1   4.54590    8.1674   -2.4586 -1.46210      0\n",
              "2   3.86600   -2.6383    1.9242  0.10645      0\n",
              "3   3.45660    9.5228   -4.0112 -3.59440      0\n",
              "4   0.32924   -4.4552    4.5718 -0.98880      0"
            ]
          },
          "metadata": {
            "tags": []
          },
          "execution_count": 93
        }
      ]
    },
    {
      "cell_type": "code",
      "metadata": {
        "id": "DPaMtJFW1SKm",
        "colab_type": "code",
        "outputId": "f7584670-3b8e-4786-c1f4-edac0eb1bb68",
        "colab": {
          "base_uri": "https://localhost:8080/",
          "height": 34
        }
      },
      "source": [
        "df = shuffle(df).reset_index(drop=True)\n",
        "train_data = df[472:]\n",
        "test_data = df[:472]\n",
        "print(train_data.shape, test_data.shape)"
      ],
      "execution_count": 94,
      "outputs": [
        {
          "output_type": "stream",
          "text": [
            "(900, 5) (472, 5)\n"
          ],
          "name": "stdout"
        }
      ]
    },
    {
      "cell_type": "code",
      "metadata": {
        "id": "EQtSi8aT1b1w",
        "colab_type": "code",
        "colab": {}
      },
      "source": [
        "def get_c_range(x_train, y_train):\n",
        "    c_ = np.logspace(-5, 8, 10)\n",
        "    scores = []\n",
        "    for c in c_:\n",
        "        svc = LinearSVC(penalty='l1', C=c, dual=False)\n",
        "        svc.fit(x_train, y_train)\n",
        "        scores.append(svc.score(x_train, y_train))\n",
        "    scores = np.array(scores)\n",
        "    ind = np.argwhere(scores > 0.9).flatten()\n",
        "    c_1 = c_[ind[0]]\n",
        "    c_2 = c_[ind[-1]]\n",
        "    return c_1, c_2"
      ],
      "execution_count": 0,
      "outputs": []
    },
    {
      "cell_type": "code",
      "metadata": {
        "id": "SR4fgZgz43Cq",
        "colab_type": "code",
        "colab": {}
      },
      "source": [
        "def linearSVC(x_train, y_train):\n",
        "    c_l, c_h = get_c_range(x_train, y_train)\n",
        "    parameters = {'C':np.logspace(log10(c_l), log10(c_h), 20)}\n",
        "\n",
        "    svc = LinearSVC(penalty='l1', dual=False)\n",
        "    n_splits = 10 if (len(x_train) > 10) else 5\n",
        "\n",
        "    kf = StratifiedKFold(n_splits=n_splits, shuffle=True)\n",
        "    clf = GridSearchCV(svc, parameters, cv=kf, scoring='accuracy', return_train_score=True)\n",
        "    clf.fit(x_train, y_train)\n",
        "    return clf.best_estimator_"
      ],
      "execution_count": 0,
      "outputs": []
    },
    {
      "cell_type": "code",
      "metadata": {
        "id": "KgGC72WzQP4B",
        "colab_type": "code",
        "colab": {}
      },
      "source": [
        "results = []\n",
        "test_data = shuffle(test_data)\n",
        "x_test = test_data.iloc[:, :-1]\n",
        "y_test = test_data.iloc[:, -1]\n",
        "\n",
        "for i in tqdm(range(50)):\n",
        "    each = []\n",
        "    \n",
        "    remaining, pool = train_test_split(train_data, test_size=10)\n",
        "    while(len(pool['class'].unique()) == 1 or pool['class'].value_counts().min() < 2):\n",
        "        remaining, pool = train_test_split(train_data, test_size=10)\n",
        "    clf = linearSVC(pool.iloc[:, :-1], pool['class'])\n",
        "    each.append(1 - clf.score(x_test, y_test))\n",
        "    \n",
        "    for j in range(88):\n",
        "        remaining, selected = train_test_split(remaining, test_size=10)\n",
        "        pool = pool.append(selected)\n",
        "        clf = linearSVC(pool.iloc[:, :-1], pool['class'])\n",
        "        each.append(1 - clf.score(x_test, y_test))\n",
        "        \n",
        "    clf = linearSVC(train_data.iloc[:, :-1], train_data['class'])\n",
        "    each.append(1 - clf.score(x_test, y_test))\n",
        "    \n",
        "    results.append(np.mean(each))\n",
        "pd.DataFrame(results).to_csv('Error.csv', index=False)"
      ],
      "execution_count": 0,
      "outputs": []
    }
  ]
}